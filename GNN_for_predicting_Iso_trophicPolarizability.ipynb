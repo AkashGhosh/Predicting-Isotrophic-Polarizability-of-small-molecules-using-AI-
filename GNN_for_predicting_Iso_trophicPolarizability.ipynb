{
  "nbformat": 4,
  "nbformat_minor": 0,
  "metadata": {
    "colab": {
      "provenance": [],
      "collapsed_sections": []
    },
    "kernelspec": {
      "name": "python3",
      "display_name": "Python 3"
    },
    "language_info": {
      "name": "python"
    },
    "accelerator": "GPU",
    "gpuClass": "standard"
  },
  "cells": [
    {
      "cell_type": "code",
      "execution_count": null,
      "metadata": {
        "colab": {
          "base_uri": "https://localhost:8080/"
        },
        "id": "ovuJ05cpBnwa",
        "outputId": "0be7ee4d-19e8-4ff0-cff7-868956c74b4c"
      },
      "outputs": [
        {
          "output_type": "stream",
          "name": "stdout",
          "text": [
            "Looking in indexes: https://pypi.org/simple, https://us-python.pkg.dev/colab-wheels/public/simple/\n",
            "Collecting torch-scatter\n",
            "  Downloading torch_scatter-2.0.9.tar.gz (21 kB)\n",
            "Building wheels for collected packages: torch-scatter\n",
            "  Building wheel for torch-scatter (setup.py) ... \u001b[?25l\u001b[?25hdone\n",
            "  Created wheel for torch-scatter: filename=torch_scatter-2.0.9-cp37-cp37m-linux_x86_64.whl size=3566953 sha256=29e6fc3be3490d4404f02762ad8c6218ad65c8878bab379e299b2c1851fccb65\n",
            "  Stored in directory: /root/.cache/pip/wheels/dd/57/a3/42ea193b77378ce634eb9454c9bc1e3163f3b482a35cdee4d1\n",
            "Successfully built torch-scatter\n",
            "Installing collected packages: torch-scatter\n",
            "Successfully installed torch-scatter-2.0.9\n"
          ]
        }
      ],
      "source": [
        "!pip install torch-scatter"
      ]
    },
    {
      "cell_type": "code",
      "source": [
        "!pip install torch-sparse"
      ],
      "metadata": {
        "colab": {
          "base_uri": "https://localhost:8080/"
        },
        "id": "jL0l55QxCOg4",
        "outputId": "eaf75611-074b-47b9-f49c-6918cbda928c"
      },
      "execution_count": null,
      "outputs": [
        {
          "output_type": "stream",
          "name": "stdout",
          "text": [
            "Looking in indexes: https://pypi.org/simple, https://us-python.pkg.dev/colab-wheels/public/simple/\n",
            "Collecting torch-sparse\n",
            "  Downloading torch_sparse-0.6.15.tar.gz (2.1 MB)\n",
            "\u001b[K     |████████████████████████████████| 2.1 MB 9.0 MB/s \n",
            "\u001b[?25hRequirement already satisfied: scipy in /usr/local/lib/python3.7/dist-packages (from torch-sparse) (1.7.3)\n",
            "Requirement already satisfied: numpy<1.23.0,>=1.16.5 in /usr/local/lib/python3.7/dist-packages (from scipy->torch-sparse) (1.21.6)\n",
            "Building wheels for collected packages: torch-sparse\n",
            "  Building wheel for torch-sparse (setup.py) ... \u001b[?25l\u001b[?25hdone\n",
            "  Created wheel for torch-sparse: filename=torch_sparse-0.6.15-cp37-cp37m-linux_x86_64.whl size=1742304 sha256=e94e494407f1f0967fd7730ef6fc5cad6c7c9ce0f0e59bcb7492c25a88e81b5e\n",
            "  Stored in directory: /root/.cache/pip/wheels/15/68/4d/1414be5c2c622bad35364e13213180797717b6d4b8923936dc\n",
            "Successfully built torch-sparse\n",
            "Installing collected packages: torch-sparse\n",
            "Successfully installed torch-sparse-0.6.15\n"
          ]
        }
      ]
    },
    {
      "cell_type": "code",
      "source": [
        "!pip install torch-geometric"
      ],
      "metadata": {
        "colab": {
          "base_uri": "https://localhost:8080/"
        },
        "id": "R-fuIiGjCOj-",
        "outputId": "481fe2f4-f028-401b-b501-2c6ea2b26df4"
      },
      "execution_count": null,
      "outputs": [
        {
          "output_type": "stream",
          "name": "stdout",
          "text": [
            "Looking in indexes: https://pypi.org/simple, https://us-python.pkg.dev/colab-wheels/public/simple/\n",
            "Collecting torch-geometric\n",
            "  Downloading torch_geometric-2.1.0.post1.tar.gz (467 kB)\n",
            "\u001b[K     |████████████████████████████████| 467 kB 7.9 MB/s \n",
            "\u001b[?25hRequirement already satisfied: tqdm in /usr/local/lib/python3.7/dist-packages (from torch-geometric) (4.64.0)\n",
            "Requirement already satisfied: numpy in /usr/local/lib/python3.7/dist-packages (from torch-geometric) (1.21.6)\n",
            "Requirement already satisfied: scipy in /usr/local/lib/python3.7/dist-packages (from torch-geometric) (1.7.3)\n",
            "Requirement already satisfied: jinja2 in /usr/local/lib/python3.7/dist-packages (from torch-geometric) (2.11.3)\n",
            "Requirement already satisfied: requests in /usr/local/lib/python3.7/dist-packages (from torch-geometric) (2.23.0)\n",
            "Requirement already satisfied: pyparsing in /usr/local/lib/python3.7/dist-packages (from torch-geometric) (3.0.9)\n",
            "Requirement already satisfied: scikit-learn in /usr/local/lib/python3.7/dist-packages (from torch-geometric) (1.0.2)\n",
            "Requirement already satisfied: MarkupSafe>=0.23 in /usr/local/lib/python3.7/dist-packages (from jinja2->torch-geometric) (2.0.1)\n",
            "Requirement already satisfied: idna<3,>=2.5 in /usr/local/lib/python3.7/dist-packages (from requests->torch-geometric) (2.10)\n",
            "Requirement already satisfied: urllib3!=1.25.0,!=1.25.1,<1.26,>=1.21.1 in /usr/local/lib/python3.7/dist-packages (from requests->torch-geometric) (1.24.3)\n",
            "Requirement already satisfied: certifi>=2017.4.17 in /usr/local/lib/python3.7/dist-packages (from requests->torch-geometric) (2022.6.15)\n",
            "Requirement already satisfied: chardet<4,>=3.0.2 in /usr/local/lib/python3.7/dist-packages (from requests->torch-geometric) (3.0.4)\n",
            "Requirement already satisfied: threadpoolctl>=2.0.0 in /usr/local/lib/python3.7/dist-packages (from scikit-learn->torch-geometric) (3.1.0)\n",
            "Requirement already satisfied: joblib>=0.11 in /usr/local/lib/python3.7/dist-packages (from scikit-learn->torch-geometric) (1.1.0)\n",
            "Building wheels for collected packages: torch-geometric\n",
            "  Building wheel for torch-geometric (setup.py) ... \u001b[?25l\u001b[?25hdone\n",
            "  Created wheel for torch-geometric: filename=torch_geometric-2.1.0.post1-py3-none-any.whl size=689859 sha256=a00197b5e46eb98ef2d5c59fd15bd71849c215907f6bd85e50b5a6f7ff5ae29e\n",
            "  Stored in directory: /root/.cache/pip/wheels/d1/cb/43/f7f2e472de4d7cff31bceddadc36d634e1e545fbc17961c282\n",
            "Successfully built torch-geometric\n",
            "Installing collected packages: torch-geometric\n",
            "Successfully installed torch-geometric-2.1.0.post1\n"
          ]
        }
      ]
    },
    {
      "cell_type": "code",
      "source": [
        "import torch\n",
        "from torch_geometric.datasets import QM9\n",
        "from  torch_geometric.loader import DataLoader\n",
        "from torch_geometric.nn import NNConv,global_add_pool\n",
        "import torch.nn.functional as F\n",
        "import torch.nn as nn\n",
        "import numpy as np"
      ],
      "metadata": {
        "id": "3fK9hyH9COm8"
      },
      "execution_count": null,
      "outputs": []
    },
    {
      "cell_type": "code",
      "source": [
        "dset=QM9('.')\n",
        "len(dset)"
      ],
      "metadata": {
        "colab": {
          "base_uri": "https://localhost:8080/"
        },
        "id": "ELcOz8yjCOpH",
        "outputId": "a04b8ba3-7351-415b-a2f5-fa12d224e115"
      },
      "execution_count": null,
      "outputs": [
        {
          "output_type": "stream",
          "name": "stderr",
          "text": [
            "Downloading https://data.pyg.org/datasets/qm9_v3.zip\n",
            "Extracting ./raw/qm9_v3.zip\n",
            "Processing...\n",
            "Using a pre-processed version of the dataset. Please install 'rdkit' to alternatively process the raw data.\n",
            "Done!\n"
          ]
        },
        {
          "output_type": "execute_result",
          "data": {
            "text/plain": [
              "130831"
            ]
          },
          "metadata": {},
          "execution_count": 7
        }
      ]
    },
    {
      "cell_type": "code",
      "source": [
        "data=dset[0]\n",
        "data"
      ],
      "metadata": {
        "colab": {
          "base_uri": "https://localhost:8080/"
        },
        "id": "K8l7lws-COs_",
        "outputId": "33ac5c20-bad5-4f6d-a569-de083d962518"
      },
      "execution_count": null,
      "outputs": [
        {
          "output_type": "execute_result",
          "data": {
            "text/plain": [
              "Data(x=[5, 11], edge_index=[2, 8], edge_attr=[8, 4], y=[1, 19], pos=[5, 3], idx=[1], name='gdb_1', z=[5])"
            ]
          },
          "metadata": {},
          "execution_count": 8
        }
      ]
    },
    {
      "cell_type": "code",
      "source": [
        "data.z"
      ],
      "metadata": {
        "colab": {
          "base_uri": "https://localhost:8080/"
        },
        "id": "4tc3gygZCOvC",
        "outputId": "8fece224-1ba1-4cc3-a3dc-c248398602e9"
      },
      "execution_count": null,
      "outputs": [
        {
          "output_type": "execute_result",
          "data": {
            "text/plain": [
              "tensor([6, 1, 1, 1, 1])"
            ]
          },
          "metadata": {},
          "execution_count": 9
        }
      ]
    },
    {
      "cell_type": "code",
      "source": [
        "data.new_attribute=torch.tensor([1,2,3])"
      ],
      "metadata": {
        "id": "esgdmjRwCOxl"
      },
      "execution_count": null,
      "outputs": []
    },
    {
      "cell_type": "code",
      "source": [
        "device=torch.device(\"cuda:0\" if torch.cuda.is_available else \"cpu\")"
      ],
      "metadata": {
        "id": "6UgS-5TPCOzn"
      },
      "execution_count": null,
      "outputs": []
    },
    {
      "cell_type": "code",
      "source": [
        "data.to(device)"
      ],
      "metadata": {
        "colab": {
          "base_uri": "https://localhost:8080/"
        },
        "id": "Yf-8R7j9CO2g",
        "outputId": "3b11007e-48ca-40a1-eeed-c05efd93561a"
      },
      "execution_count": null,
      "outputs": [
        {
          "output_type": "execute_result",
          "data": {
            "text/plain": [
              "Data(x=[5, 11], edge_index=[2, 8], edge_attr=[8, 4], y=[1, 19], pos=[5, 3], idx=[1], name='gdb_1', z=[5], new_attribute=[3])"
            ]
          },
          "metadata": {},
          "execution_count": 13
        }
      ]
    },
    {
      "cell_type": "code",
      "source": [
        "from torch.utils.data import random_split\n",
        "train_set,valid_set,test_set=random_split(dset,[110000,10831,10000])"
      ],
      "metadata": {
        "id": "Bs6QDjJHN-Bn"
      },
      "execution_count": null,
      "outputs": []
    },
    {
      "cell_type": "code",
      "source": [
        "trainloader=DataLoader(train_set,batch_size=32,shuffle=True)\n",
        "validloader=DataLoader(valid_set,batch_size=32,shuffle=True)\n",
        "testloader=DataLoader(test_set,batch_size=32,shuffle=True)"
      ],
      "metadata": {
        "id": "FGQrJuQaN-Ff"
      },
      "execution_count": null,
      "outputs": []
    },
    {
      "cell_type": "code",
      "source": [
        "class ExampleNet(torch.nn.Module):\n",
        "  def __init__(self,num_node_features,num_edge_features):\n",
        "    super().__init__()\n",
        "    conv1_net=nn.Sequential(nn.Linear(num_edge_features,32),nn.ReLU(),nn.Linear(32,num_node_features*32))\n",
        "    conv2_net=nn.Sequential(nn.Linear(num_edge_features,32),nn.ReLU(),nn.Linear(32,16*32))\n",
        "    self.conv1=NNConv(num_node_features,32,conv1_net)\n",
        "    self.conv2=NNConv(32,16,conv2_net)\n",
        "    self.fc_1=nn.Linear(16,32)\n",
        "    self.out=nn.Linear(32,1)\n",
        "\n",
        "  def forward(self,data):\n",
        "    batch,x,edge_index,edge_attr=(data.batch,data.x,data.edge_index,data.edge_attr)\n",
        "    #first graph conv layer\n",
        "    x=F.relu(self.conv1(x,edge_index,edge_attr))\n",
        "    x=F.relu(self.conv2(x,edge_index,edge_attr))\n",
        "    x=global_add_pool(x,batch)\n",
        "    x=F.relu(self.fc_1(x))\n",
        "    output=self.out(x)\n",
        "    return output  \n"
      ],
      "metadata": {
        "id": "Nz1lB181N-Jz"
      },
      "execution_count": null,
      "outputs": []
    },
    {
      "cell_type": "code",
      "source": [
        "#initialize the model\n",
        "num_nodes,num_edges=11,4\n",
        "net=ExampleNet(num_nodes,num_edges)\n",
        "optimizer=torch.optim.Adam(net.parameters(),lr=0.01)\n",
        "epochs=15\n",
        "target_idx=1\n",
        "device=torch.device(\"cuda:0\"if torch.cuda.is_available() else \"cpu\")\n",
        "net.to(device)"
      ],
      "metadata": {
        "colab": {
          "base_uri": "https://localhost:8080/"
        },
        "id": "rXX7R-FtN-Mm",
        "outputId": "c266a4f1-955b-4661-eadc-22b7fd1ea730"
      },
      "execution_count": null,
      "outputs": [
        {
          "output_type": "execute_result",
          "data": {
            "text/plain": [
              "ExampleNet(\n",
              "  (conv1): NNConv(11, 32, aggr=add, nn=Sequential(\n",
              "    (0): Linear(in_features=4, out_features=32, bias=True)\n",
              "    (1): ReLU()\n",
              "    (2): Linear(in_features=32, out_features=352, bias=True)\n",
              "  ))\n",
              "  (conv2): NNConv(32, 16, aggr=add, nn=Sequential(\n",
              "    (0): Linear(in_features=4, out_features=32, bias=True)\n",
              "    (1): ReLU()\n",
              "    (2): Linear(in_features=32, out_features=512, bias=True)\n",
              "  ))\n",
              "  (fc_1): Linear(in_features=16, out_features=32, bias=True)\n",
              "  (out): Linear(in_features=32, out_features=1, bias=True)\n",
              ")"
            ]
          },
          "metadata": {},
          "execution_count": 32
        }
      ]
    },
    {
      "cell_type": "code",
      "source": [
        "for total_epochs in range(epochs):\n",
        "  epoch_loss=0\n",
        "  total_graphs=0\n",
        "  net.train()\n",
        "  for batch in trainloader:\n",
        "    batch.to(device)\n",
        "    optimizer.zero_grad()\n",
        "    output=net(batch)\n",
        "    loss=F.mse_loss(output,torch.unsqueeze(batch.y[:,target_idx],1))\n",
        "    loss.backward()\n",
        "    epoch_loss+=loss.item()\n",
        "    total_graphs+=batch.num_graphs\n",
        "    optimizer.step()\n",
        "  train_avg_loss=epoch_loss/total_graphs  \n",
        "  val_loss=0\n",
        "  total_graphs=0\n",
        "  net.eval()\n",
        "  for batch in validloader:\n",
        "    batch.to(device)\n",
        "    output=net(batch)\n",
        "    loss=F.mse_loss(output,torch.unsqueeze(batch.y[:,target_idx],1))\n",
        "    val_loss+=loss.item()\n",
        "    total_graphs+=batch.num_graphs\n",
        "  val_avg_loss=val_loss/total_graphs\n",
        "  print(f\"Epochs:{total_epochs} |\"\n",
        "        f\"epoch avg.loss:{train_avg_loss:.2f} |\"\n",
        "        f\"validation avg.loss:{val_avg_loss:.2f}\")    \n",
        "\n"
      ],
      "metadata": {
        "colab": {
          "base_uri": "https://localhost:8080/"
        },
        "id": "KgXa-oitN-Po",
        "outputId": "83fa6a3d-96bd-429c-8d67-276616e03504"
      },
      "execution_count": null,
      "outputs": [
        {
          "output_type": "stream",
          "name": "stdout",
          "text": [
            "Epochs:0 |epoch avg.loss:0.52 |validation avg.loss:0.11\n",
            "Epochs:1 |epoch avg.loss:0.13 |validation avg.loss:0.08\n",
            "Epochs:2 |epoch avg.loss:0.10 |validation avg.loss:0.10\n",
            "Epochs:3 |epoch avg.loss:0.09 |validation avg.loss:0.05\n",
            "Epochs:4 |epoch avg.loss:0.08 |validation avg.loss:0.07\n",
            "Epochs:5 |epoch avg.loss:0.08 |validation avg.loss:0.08\n",
            "Epochs:6 |epoch avg.loss:0.08 |validation avg.loss:0.05\n",
            "Epochs:7 |epoch avg.loss:0.07 |validation avg.loss:0.05\n",
            "Epochs:8 |epoch avg.loss:0.07 |validation avg.loss:0.06\n",
            "Epochs:9 |epoch avg.loss:0.07 |validation avg.loss:0.06\n",
            "Epochs:10 |epoch avg.loss:0.07 |validation avg.loss:0.05\n",
            "Epochs:11 |epoch avg.loss:0.07 |validation avg.loss:0.07\n",
            "Epochs:12 |epoch avg.loss:0.07 |validation avg.loss:0.05\n",
            "Epochs:13 |epoch avg.loss:0.06 |validation avg.loss:0.17\n",
            "Epochs:14 |epoch avg.loss:0.06 |validation avg.loss:0.07\n"
          ]
        }
      ]
    },
    {
      "cell_type": "code",
      "source": [
        "net.eval()\n",
        "predictions=[]\n",
        "real=[]\n",
        "for batch in testloader:\n",
        "  output=net(batch.to(device))\n",
        "  predictions.append(output.detach().cpu().numpy())\n",
        "  real.append(batch.y[:,target_idx].detach().cpu().numpy())\n",
        "real=np.concatenate(real)\n",
        "predictions=np.concatenate(predictions)  "
      ],
      "metadata": {
        "id": "FMejJflxN-SH"
      },
      "execution_count": null,
      "outputs": []
    },
    {
      "cell_type": "code",
      "source": [
        "import matplotlib.pyplot as plt\n",
        "plt.scatter(real[:500],predictions[:500])\n",
        "plt.xlabel('Isotrophic Polarizability')\n",
        "plt.ylabel('Predicted Isotrophic Polarizability')"
      ],
      "metadata": {
        "colab": {
          "base_uri": "https://localhost:8080/",
          "height": 297
        },
        "id": "wvUdpS2PN-Vi",
        "outputId": "8eeb8d24-63a9-4c4d-cd79-a22a47c4c78a"
      },
      "execution_count": null,
      "outputs": [
        {
          "output_type": "execute_result",
          "data": {
            "text/plain": [
              "Text(0, 0.5, 'Predicted Isotrophic Polarizability')"
            ]
          },
          "metadata": {},
          "execution_count": 36
        },
        {
          "output_type": "display_data",
          "data": {
            "text/plain": [
              "<Figure size 432x288 with 1 Axes>"
            ],
            "image/png": "[encoded data removed]"
          },
          "metadata": {
            "needs_background": "light"
          }
        }
      ]
    },
    {
      "cell_type": "code",
      "source": [
        "real"
      ],
      "metadata": {
        "colab": {
          "base_uri": "https://localhost:8080/"
        },
        "id": "5lB7BTPRN-Xk",
        "outputId": "19e3cb06-2e6d-4b0c-cde6-a08268586dbe"
      },
      "execution_count": null,
      "outputs": [
        {
          "output_type": "execute_result",
          "data": {
            "text/plain": [
              "array([82.52, 76.4 , 77.71, ..., 76.99, 77.45, 54.71], dtype=float32)"
            ]
          },
          "metadata": {},
          "execution_count": 37
        }
      ]
    },
    {
      "cell_type": "code",
      "source": [],
      "metadata": {
        "id": "iwd5-MO7N-aZ"
      },
      "execution_count": null,
      "outputs": []
    },
    {
      "cell_type": "code",
      "source": [],
      "metadata": {
        "id": "BCW7ANT7N-cO"
      },
      "execution_count": null,
      "outputs": []
    },
    {
      "cell_type": "code",
      "source": [],
      "metadata": {
        "id": "kWX47zU0N-fc"
      },
      "execution_count": null,
      "outputs": []
    },
    {
      "cell_type": "code",
      "source": [],
      "metadata": {
        "id": "x_a5XFG3N-h1"
      },
      "execution_count": null,
      "outputs": []
    },
    {
      "cell_type": "code",
      "source": [],
      "metadata": {
        "id": "l2aG7hPGN-kj"
      },
      "execution_count": null,
      "outputs": []
    },
    {
      "cell_type": "code",
      "source": [],
      "metadata": {
        "id": "zseQgjajN-mk"
      },
      "execution_count": null,
      "outputs": []
    },
    {
      "cell_type": "code",
      "source": [],
      "metadata": {
        "id": "dLrrZnBvN-pI"
      },
      "execution_count": null,
      "outputs": []
    },
    {
      "cell_type": "code",
      "source": [],
      "metadata": {
        "id": "V_l2ivSON-rf"
      },
      "execution_count": null,
      "outputs": []
    },
    {
      "cell_type": "code",
      "source": [],
      "metadata": {
        "id": "4mTkCvk7N-0w"
      },
      "execution_count": null,
      "outputs": []
    },
    {
      "cell_type": "code",
      "source": [],
      "metadata": {
        "id": "q2U1XTsMN-21"
      },
      "execution_count": null,
      "outputs": []
    },
    {
      "cell_type": "code",
      "source": [],
      "metadata": {
        "id": "HPnnZI2sN-4Q"
      },
      "execution_count": null,
      "outputs": []
    },
    {
      "cell_type": "code",
      "source": [],
      "metadata": {
        "id": "uQ_o37h7N-6Q"
      },
      "execution_count": null,
      "outputs": []
    },
    {
      "cell_type": "code",
      "source": [],
      "metadata": {
        "id": "swKFVwwYN-7g"
      },
      "execution_count": null,
      "outputs": []
    },
    {
      "cell_type": "code",
      "source": [],
      "metadata": {
        "id": "r0BThRBGN-8y"
      },
      "execution_count": null,
      "outputs": []
    },
    {
      "cell_type": "code",
      "source": [],
      "metadata": {
        "id": "f-dtqAyMN--z"
      },
      "execution_count": null,
      "outputs": []
    },
    {
      "cell_type": "code",
      "source": [],
      "metadata": {
        "id": "nGDRLi_mCO5H"
      },
      "execution_count": null,
      "outputs": []
    },
    {
      "cell_type": "code",
      "source": [],
      "metadata": {
        "id": "94tZpZ0wCO8O"
      },
      "execution_count": null,
      "outputs": []
    }
  ]
}